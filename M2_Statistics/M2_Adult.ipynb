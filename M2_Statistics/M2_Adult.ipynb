{
 "cells": [
  {
   "cell_type": "code",
   "execution_count": 2,
   "metadata": {},
   "outputs": [],
   "source": [
    "import pandas as pd\n",
    "import numpy as np\n",
    "import matplotlib.pyplot as plt"
   ]
  },
  {
   "cell_type": "code",
   "execution_count": 6,
   "metadata": {},
   "outputs": [],
   "source": [
    "file = open('adult.data', 'r')\n",
    "def chr_int(a):\n",
    "    if a.isdigit(): return int(a)\n",
    "    else: return 0\n",
    "\n",
    "data = []\n",
    "for line in file:\n",
    "    data1 = line.split(',')\n",
    "    if len(data1) == 15:\n",
    "        data.append([\n",
    "            chr_int(data1[0]), data1[1],\n",
    "            chr_int(data1[2]), data1[3],\n",
    "            chr_int(data1[4]), data1[5],\n",
    "            data1[6], data1[7], data1[8],\n",
    "            data1[9], chr_int(data1[10]),\n",
    "            chr_int(data1[11]),\n",
    "            chr_int(data1[12]),\n",
    "            data1[13], data1[14]\n",
    "        ])"
   ]
  },
  {
   "cell_type": "markdown",
   "metadata": {},
   "source": [
    "# Worksheet 2\n",
    "What does the  'r' do in the first line?\n",
    "R indicates to open the file and read the file, turning it into a string, rather than writing into the file. These quotes ' ' indicate that it is a string\n",
    "Describe the function chr_int in the second line\n",
    "The isdigit() method returns True if all the characters are digits, otherwise False\n",
    "Try compiling this with the \"data1 - line.split(',') without that space, what happens?\n",
    "data = [] means initializing an empty array, taking away the space will look for a place in the data without the space. If there is no place in the data with that identical lack of a space, then there will be nothing to output. With the space is the same condition \n",
    "\n",
    "Worksheet 3\n",
    "What might be the best data structure to place this data in?\n",
    "Data Frame "
   ]
  },
  {
   "cell_type": "code",
   "execution_count": null,
   "metadata": {},
   "outputs": [],
   "source": [
    "#turn data (which is currently in an array) into a dataframe \n",
    "adult = pd.DataFrame(\n",
    "    data,\n",
    "    columns = [\n",
    "        'age', 'type-employer', 'fnlwgt',\n",
    "        'education', 'education_num', 'marital',\n",
    "        'occupation', 'relationship', 'race', \n",
    "        'sex', 'capital_gain', 'capitol_loss',\n",
    "        'hr_per_week', 'country', 'income'\n",
    "        \n",
    "    ]\n",
    ")\n",
    "adult.head()"
   ]
  }
 ],
 "metadata": {
  "kernelspec": {
   "display_name": "Python 2",
   "language": "python",
   "name": "python2"
  },
  "language_info": {
   "codemirror_mode": {
    "name": "ipython",
    "version": 2
   },
   "file_extension": ".py",
   "mimetype": "text/x-python",
   "name": "python",
   "nbconvert_exporter": "python",
   "pygments_lexer": "ipython2",
   "version": "2.7.16"
  }
 },
 "nbformat": 4,
 "nbformat_minor": 2
}

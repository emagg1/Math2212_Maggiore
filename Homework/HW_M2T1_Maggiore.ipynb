{
 "cells": [
  {
   "cell_type": "markdown",
   "metadata": {},
   "source": [
    "# Question 1\n",
    "A. Descriptive statistics are used to describe the basic features of the data in a study. It can provide summaries about the sample and the measures. It can summarize and grapht the data for a group that you choose.\n",
    "B. Inferential statistics takes data from a sample and makes inferences about the larger population from which the sample was drawn. Takes a sample and generalizes it to a population. \n",
    "C. Data Science is a field of study that combine domaine expertise. programming skills, and knowledge of mathematics/statistics to extract meaningful insights from data. This can be used to find patters, trends, tested results and more from data sets. "
   ]
  }
 ],
 "metadata": {
  "kernelspec": {
   "display_name": "Python 2",
   "language": "python",
   "name": "python2"
  },
  "language_info": {
   "codemirror_mode": {
    "name": "ipython",
    "version": 2
   },
   "file_extension": ".py",
   "mimetype": "text/x-python",
   "name": "python",
   "nbconvert_exporter": "python",
   "pygments_lexer": "ipython2",
   "version": "2.7.16"
  }
 },
 "nbformat": 4,
 "nbformat_minor": 2
}

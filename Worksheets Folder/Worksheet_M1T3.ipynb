{
 "cells": [
  {
   "cell_type": "markdown",
   "metadata": {},
   "source": [
    "# All work that is not shown here is located in M1_Eurostat notebook!"
   ]
  },
  {
   "cell_type": "markdown",
   "metadata": {},
   "source": [
    "# Question 1"
   ]
  },
  {
   "cell_type": "markdown",
   "metadata": {},
   "source": [
    "A. Describe what each line does.\n",
    "edu[4:15] This outputs rows 4 to 14 only.\n",
    "edu['Value'] This outputs the 'Value' column only. \n",
    "edu[4:15]['Value'] This outputs the rows 4 to 14 in the Value column only.\n",
    "edu[4:15][['TIME', 'Value']] This outputs rows 4 to 14 with the TIME and Value columns only.\n",
    "B. What is the #? This # is to include comments in the code. In other coding languages it can be seen as //. This just allows the user to have notes in the code without it being counted as functions or anything to cause errors. "
   ]
  },
  {
   "cell_type": "markdown",
   "metadata": {},
   "source": [
    "# Question 2"
   ]
  },
  {
   "cell_type": "markdown",
   "metadata": {},
   "source": [
    "The answer to this question can be found in the notebook M1_Eurostat."
   ]
  },
  {
   "cell_type": "markdown",
   "metadata": {},
   "source": [
    "# Question 3"
   ]
  },
  {
   "cell_type": "markdown",
   "metadata": {},
   "source": [
    "There were 3 rows added. This can also be found in the notebook M1_Eurostat. "
   ]
  },
  {
   "cell_type": "markdown",
   "metadata": {},
   "source": [
    "# Question 4"
   ]
  },
  {
   "cell_type": "markdown",
   "metadata": {},
   "source": [
    "edu[ (edu['Value'] >= 5) & (edu['Value'] <= 7) ]\n",
    "Also can be found in the notebook M1_Eurostat."
   ]
  }
 ],
 "metadata": {
  "kernelspec": {
   "display_name": "Python 2",
   "language": "python",
   "name": "python2"
  },
  "language_info": {
   "codemirror_mode": {
    "name": "ipython",
    "version": 2
   },
   "file_extension": ".py",
   "mimetype": "text/x-python",
   "name": "python",
   "nbconvert_exporter": "python",
   "pygments_lexer": "ipython2",
   "version": "2.7.16"
  }
 },
 "nbformat": 4,
 "nbformat_minor": 2
}

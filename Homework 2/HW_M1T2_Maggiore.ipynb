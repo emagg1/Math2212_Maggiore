{
 "cells": [
  {
   "cell_type": "markdown",
   "metadata": {},
   "source": [
    "Question 1:\n",
    "Pandas library can be used to analyze data by outputting the data into a specifc format. Numpy library can be used to support multi-dimensional arrays. Matplotlib library can be used as a visualiation for 2D plots of arrays. "
   ]
  },
  {
   "cell_type": "code",
   "execution_count": 2,
   "metadata": {},
   "outputs": [],
   "source": [
    "import  pandas as pd\n",
    "import  numpy as np\n",
    "import  matplotlib.pyplot as plt"
   ]
  },
  {
   "cell_type": "code",
   "execution_count": 3,
   "metadata": {},
   "outputs": [
    {
     "data": {
      "text/html": [
       "<div>\n",
       "<style scoped>\n",
       "    .dataframe tbody tr th:only-of-type {\n",
       "        vertical-align: middle;\n",
       "    }\n",
       "\n",
       "    .dataframe tbody tr th {\n",
       "        vertical-align: top;\n",
       "    }\n",
       "\n",
       "    .dataframe thead th {\n",
       "        text-align: right;\n",
       "    }\n",
       "</style>\n",
       "<table border=\"1\" class=\"dataframe\">\n",
       "  <thead>\n",
       "    <tr style=\"text-align: right;\">\n",
       "      <th></th>\n",
       "      <th>Food</th>\n",
       "      <th>Price</th>\n",
       "      <th>Amount</th>\n",
       "    </tr>\n",
       "  </thead>\n",
       "  <tbody>\n",
       "    <tr>\n",
       "      <th>0</th>\n",
       "      <td>Arepas</td>\n",
       "      <td>1.50</td>\n",
       "      <td>2</td>\n",
       "    </tr>\n",
       "    <tr>\n",
       "      <th>1</th>\n",
       "      <td>Arroz</td>\n",
       "      <td>1.00</td>\n",
       "      <td>1</td>\n",
       "    </tr>\n",
       "    <tr>\n",
       "      <th>2</th>\n",
       "      <td>Bread</td>\n",
       "      <td>0.99</td>\n",
       "      <td>2</td>\n",
       "    </tr>\n",
       "    <tr>\n",
       "      <th>3</th>\n",
       "      <td>Fries</td>\n",
       "      <td>2.00</td>\n",
       "      <td>10</td>\n",
       "    </tr>\n",
       "    <tr>\n",
       "      <th>4</th>\n",
       "      <td>Wontons</td>\n",
       "      <td>3.00</td>\n",
       "      <td>5</td>\n",
       "    </tr>\n",
       "    <tr>\n",
       "      <th>5</th>\n",
       "      <td>Tempeh</td>\n",
       "      <td>1.25</td>\n",
       "      <td>3</td>\n",
       "    </tr>\n",
       "    <tr>\n",
       "      <th>6</th>\n",
       "      <td>Tacos</td>\n",
       "      <td>5.00</td>\n",
       "      <td>3</td>\n",
       "    </tr>\n",
       "    <tr>\n",
       "      <th>7</th>\n",
       "      <td>Tostones</td>\n",
       "      <td>1.60</td>\n",
       "      <td>5</td>\n",
       "    </tr>\n",
       "    <tr>\n",
       "      <th>8</th>\n",
       "      <td>Pupusas</td>\n",
       "      <td>4.50</td>\n",
       "      <td>2</td>\n",
       "    </tr>\n",
       "  </tbody>\n",
       "</table>\n",
       "</div>"
      ],
      "text/plain": [
       "       Food  Price  Amount\n",
       "0    Arepas   1.50       2\n",
       "1     Arroz   1.00       1\n",
       "2     Bread   0.99       2\n",
       "3     Fries   2.00      10\n",
       "4   Wontons   3.00       5\n",
       "5    Tempeh   1.25       3\n",
       "6     Tacos   5.00       3\n",
       "7  Tostones   1.60       5\n",
       "8   Pupusas   4.50       2"
      ]
     },
     "execution_count": 3,
     "metadata": {},
     "output_type": "execute_result"
    }
   ],
   "source": [
    "# The output of this dataframe should mimic a menu of my favorite foods with menu \"prices\".\n",
    "data = {\n",
    "    \n",
    "    'Food' : [\n",
    "                'Arepas', 'Arroz',\n",
    "                'Bread', 'Fries',\n",
    "                'Wontons', 'Tempeh',\n",
    "                'Tacos', 'Tostones',\n",
    "                'Pupusas'\n",
    "    ],\n",
    "    'Price' : [1.50, 1.00, 0.99, 2.00, 3.00, 1.25, 5.00, 1.60, 4.50],\n",
    "    'Amount' : [2, 1, 2, 10, 5, 3, 3, 5, 2]\n",
    "}\n",
    "\n",
    "food = pd.DataFrame (\n",
    "    data,\n",
    "    columns = [\n",
    "        'Food' , 'Price' , 'Amount'\n",
    "    ]\n",
    ")\n",
    "    \n",
    "food"
   ]
  },
  {
   "cell_type": "markdown",
   "metadata": {},
   "source": [
    "Question 3:\n",
    "A dictionary in Python is a collection of key-pairs value of items. For each entry, there is a key and a value. It is an unordered collection of data values used to store data like a map."
   ]
  },
  {
   "cell_type": "markdown",
   "metadata": {},
   "source": [
    "Question 4:\n",
    "The parameters for the Dataframe() function is dependent on the programmer. The programmer can control how large or small they want the parameter to be. In my example, the parameters are food, price, and amount, however, I wasn't limited to only 3, I just chose to use 3."
   ]
  },
  {
   "cell_type": "code",
   "execution_count": 4,
   "metadata": {},
   "outputs": [],
   "source": [
    "jimmy = 2"
   ]
  },
  {
   "cell_type": "markdown",
   "metadata": {},
   "source": [
    "The output would be 2. For example, if you typed jimmy under, or a print function for jimmy, the output would be 2. This is taking jimmy, and assigning it to the value 2. So, 2 is stored as Jimmy in memory."
   ]
  },
  {
   "cell_type": "code",
   "execution_count": null,
   "metadata": {},
   "outputs": [],
   "source": [
    "jimmy**2"
   ]
  },
  {
   "cell_type": "markdown",
   "metadata": {},
   "source": [
    "Similar to the last problem, the output would now be 4, since 2 is stored as jimmy and it would recognize that jimmy as an exponent of 2, would signal to the computer that 2 now must be multiplied by itself to get an output of 4."
   ]
  },
  {
   "cell_type": "code",
   "execution_count": null,
   "metadata": {},
   "outputs": [],
   "source": [
    "jimmy + 10"
   ]
  },
  {
   "cell_type": "markdown",
   "metadata": {},
   "source": [
    "The output now would be 12. Similar to the previous, the computer recognizes that jimmy = 2 and to now add 2 with the value 10. "
   ]
  },
  {
   "cell_type": "markdown",
   "metadata": {},
   "source": [
    "The data structure jimmy is an integer because if it was a string, usually there would be associated quotes around the string. For example, a string would look like, 'This is a string', whereas an integer is just a variable holding a value such as jimmy = 2. "
   ]
  }
 ],
 "metadata": {
  "kernelspec": {
   "display_name": "Python 2",
   "language": "python",
   "name": "python2"
  },
  "language_info": {
   "codemirror_mode": {
    "name": "ipython",
    "version": 2
   },
   "file_extension": ".py",
   "mimetype": "text/x-python",
   "name": "python",
   "nbconvert_exporter": "python",
   "pygments_lexer": "ipython2",
   "version": "2.7.16"
  }
 },
 "nbformat": 4,
 "nbformat_minor": 2
}
